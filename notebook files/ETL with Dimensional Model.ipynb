{
 "cells": [
  {
   "cell_type": "code",
   "execution_count": 1,
   "id": "fdd37237",
   "metadata": {},
   "outputs": [],
   "source": [
    "import warnings\n",
    "warnings.filterwarnings('ignore')"
   ]
  },
  {
   "cell_type": "code",
   "execution_count": 2,
   "id": "c6fcd62a",
   "metadata": {},
   "outputs": [],
   "source": [
    "import pandas as pd\n",
    "import numpy as np\n",
    "\n",
    "#my helper functions from ipynb file\n",
    "from ipynb.fs.full.PostgreHelper import * "
   ]
  },
  {
   "cell_type": "markdown",
   "id": "fd834ba3",
   "metadata": {},
   "source": [
    "# Extract"
   ]
  },
  {
   "cell_type": "code",
   "execution_count": 27,
   "id": "84faf4d3",
   "metadata": {},
   "outputs": [],
   "source": [
    "#my sample google sheet\n",
    "sheet_id = '1xo1_DZEVBiVz39S5Ln3CSnagbPE78cvBDKtwqtC3hKI'\n",
    "\n",
    "#extract all tables from the sheet\n",
    "student_url = f\"https://docs.google.com/spreadsheets/d/{sheet_id}/gviz/tq?tqx=out:csv&sheet=Students\"\n",
    "df_student = pd.read_csv(student_url)\n",
    "\n",
    "st_course_url = f\"https://docs.google.com/spreadsheets/d/{sheet_id}/gviz/tq?tqx=out:csv&sheet=Student_Courses\"\n",
    "df_st_course = pd.read_csv(st_course_url)\n",
    "\n",
    "course_url = f\"https://docs.google.com/spreadsheets/d/{sheet_id}/gviz/tq?tqx=out:csv&sheet=Courses_Info\"\n",
    "df_course_info = pd.read_csv(course_url)\n",
    "\n",
    "payment_url = f\"https://docs.google.com/spreadsheets/d/{sheet_id}/gviz/tq?tqx=out:csv&sheet=Payment_Method\"\n",
    "df_payment = pd.read_csv(payment_url)\n",
    "\n",
    "purchased_url = f\"https://docs.google.com/spreadsheets/d/{sheet_id}/gviz/tq?tqx=out:csv&sheet=Purchased_Info\"\n",
    "df_purchase = pd.read_csv(purchased_url)"
   ]
  },
  {
   "cell_type": "code",
   "execution_count": 29,
   "id": "d7894031",
   "metadata": {},
   "outputs": [
    {
     "data": {
      "text/html": [
       "<div>\n",
       "<style scoped>\n",
       "    .dataframe tbody tr th:only-of-type {\n",
       "        vertical-align: middle;\n",
       "    }\n",
       "\n",
       "    .dataframe tbody tr th {\n",
       "        vertical-align: top;\n",
       "    }\n",
       "\n",
       "    .dataframe thead th {\n",
       "        text-align: right;\n",
       "    }\n",
       "</style>\n",
       "<table border=\"1\" class=\"dataframe\">\n",
       "  <thead>\n",
       "    <tr style=\"text-align: right;\">\n",
       "      <th></th>\n",
       "      <th>student_id</th>\n",
       "      <th>first_name</th>\n",
       "      <th>last_name</th>\n",
       "      <th>full_name</th>\n",
       "      <th>phone</th>\n",
       "      <th>email</th>\n",
       "      <th>address</th>\n",
       "      <th>birthyear</th>\n",
       "      <th>nationality</th>\n",
       "    </tr>\n",
       "  </thead>\n",
       "  <tbody>\n",
       "    <tr>\n",
       "      <th>0</th>\n",
       "      <td>S001</td>\n",
       "      <td>student</td>\n",
       "      <td>1</td>\n",
       "      <td>student001</td>\n",
       "      <td>97001</td>\n",
       "      <td>student001@smail.com</td>\n",
       "      <td>Yangon</td>\n",
       "      <td>1990</td>\n",
       "      <td>Myanmar</td>\n",
       "    </tr>\n",
       "    <tr>\n",
       "      <th>1</th>\n",
       "      <td>S002</td>\n",
       "      <td>student</td>\n",
       "      <td>2</td>\n",
       "      <td>student002</td>\n",
       "      <td>97002</td>\n",
       "      <td>student002@smail.com</td>\n",
       "      <td>Yangon</td>\n",
       "      <td>1990</td>\n",
       "      <td>Myanmar</td>\n",
       "    </tr>\n",
       "    <tr>\n",
       "      <th>2</th>\n",
       "      <td>S003</td>\n",
       "      <td>student</td>\n",
       "      <td>3</td>\n",
       "      <td>student003</td>\n",
       "      <td>97003</td>\n",
       "      <td>student003@smail.com</td>\n",
       "      <td>Yangon</td>\n",
       "      <td>1990</td>\n",
       "      <td>Myanmar</td>\n",
       "    </tr>\n",
       "    <tr>\n",
       "      <th>3</th>\n",
       "      <td>S004</td>\n",
       "      <td>student</td>\n",
       "      <td>4</td>\n",
       "      <td>student004</td>\n",
       "      <td>97004</td>\n",
       "      <td>student004@smail.com</td>\n",
       "      <td>Yangon</td>\n",
       "      <td>1990</td>\n",
       "      <td>Myanmar</td>\n",
       "    </tr>\n",
       "    <tr>\n",
       "      <th>4</th>\n",
       "      <td>S005</td>\n",
       "      <td>student</td>\n",
       "      <td>5</td>\n",
       "      <td>student005</td>\n",
       "      <td>97005</td>\n",
       "      <td>student005@smail.com</td>\n",
       "      <td>Yangon</td>\n",
       "      <td>1990</td>\n",
       "      <td>Myanmar</td>\n",
       "    </tr>\n",
       "  </tbody>\n",
       "</table>\n",
       "</div>"
      ],
      "text/plain": [
       "  student_id first_name  last_name   full_name  phone                 email  \\\n",
       "0       S001    student          1  student001  97001  student001@smail.com   \n",
       "1       S002    student          2  student002  97002  student002@smail.com   \n",
       "2       S003    student          3  student003  97003  student003@smail.com   \n",
       "3       S004    student          4  student004  97004  student004@smail.com   \n",
       "4       S005    student          5  student005  97005  student005@smail.com   \n",
       "\n",
       "  address  birthyear nationality  \n",
       "0  Yangon       1990     Myanmar  \n",
       "1  Yangon       1990     Myanmar  \n",
       "2  Yangon       1990     Myanmar  \n",
       "3  Yangon       1990     Myanmar  \n",
       "4  Yangon       1990     Myanmar  "
      ]
     },
     "execution_count": 29,
     "metadata": {},
     "output_type": "execute_result"
    }
   ],
   "source": [
    "df_student.head()"
   ]
  },
  {
   "cell_type": "code",
   "execution_count": null,
   "id": "318221dc",
   "metadata": {},
   "outputs": [],
   "source": []
  },
  {
   "cell_type": "code",
   "execution_count": null,
   "id": "6e4a4381",
   "metadata": {},
   "outputs": [],
   "source": []
  },
  {
   "cell_type": "code",
   "execution_count": null,
   "id": "6b6ad3e4",
   "metadata": {},
   "outputs": [],
   "source": []
  },
  {
   "cell_type": "markdown",
   "id": "a2371be0",
   "metadata": {},
   "source": [
    "# Transform (Dimensional Model)"
   ]
  },
  {
   "cell_type": "code",
   "execution_count": null,
   "id": "97d0d963",
   "metadata": {},
   "outputs": [],
   "source": []
  },
  {
   "cell_type": "code",
   "execution_count": null,
   "id": "e987a208",
   "metadata": {},
   "outputs": [],
   "source": []
  },
  {
   "cell_type": "code",
   "execution_count": null,
   "id": "1027409f",
   "metadata": {},
   "outputs": [],
   "source": []
  },
  {
   "cell_type": "code",
   "execution_count": null,
   "id": "2738d0b9",
   "metadata": {},
   "outputs": [],
   "source": []
  },
  {
   "cell_type": "code",
   "execution_count": null,
   "id": "d932e1a8",
   "metadata": {},
   "outputs": [],
   "source": []
  },
  {
   "cell_type": "markdown",
   "id": "e287baa6",
   "metadata": {},
   "source": [
    "# Load"
   ]
  },
  {
   "cell_type": "code",
   "execution_count": null,
   "id": "fb01ff3f",
   "metadata": {},
   "outputs": [],
   "source": [
    "#connect to my Postgre database that hosted on ElephantSql with free instance\n",
    "connection, cursor = connect(host = 'arjuna.db.elephantsql.com', \n",
    "                             database = '*******', \n",
    "                             user = '*******', \n",
    "                             password = '*******', \n",
    "                             port = '5432')"
   ]
  },
  {
   "cell_type": "code",
   "execution_count": null,
   "id": "b5d9e377",
   "metadata": {},
   "outputs": [],
   "source": [
    "#create new table for the above youtube data\n",
    "query = 'CREATE TABLE youtube_channel \\\n",
    "        (id SERIAL PRIMARY KEY, title text, url text, liked int, disliked int, views int, comment_count int); '\n",
    "create_table(connection, cursor, query)"
   ]
  },
  {
   "cell_type": "code",
   "execution_count": null,
   "id": "a937fbdf",
   "metadata": {},
   "outputs": [],
   "source": [
    "#inserting the dataframe into youtube_channel table\n",
    "\n",
    "#convert dataframe in tuples to iterate\n",
    "tuples = [tuple(x) for x in df.to_numpy()]\n",
    "\n",
    "#df columns into string\n",
    "cols = ','.join(list(df.columns))\n",
    "\n",
    "#insert query\n",
    "query = \"INSERT INTO youtube_channel(%s) VALUES(%%s,%%s,%%s,%%s,%%s,%%s)\" % (cols)\n",
    "\n",
    "#inserting with executemany function\n",
    "try:\n",
    "    cursor.executemany(query, tuples)\n",
    "    print(\"Data inserted using execute_many() successfully!\")\n",
    "except (Exception, psycopg2.DatabaseError) as err:\n",
    "    print(err)\n",
    "    cursor.close()"
   ]
  },
  {
   "cell_type": "code",
   "execution_count": null,
   "id": "2b09bcca",
   "metadata": {},
   "outputs": [],
   "source": [
    "#read PostgreSQL table into pandas dataframe\n",
    "data = pd.read_sql_query(con = connection, sql = 'SELECT * FROM youtube_channel')\n",
    "data.head(10)"
   ]
  },
  {
   "cell_type": "code",
   "execution_count": null,
   "id": "1d4d1873",
   "metadata": {},
   "outputs": [],
   "source": []
  },
  {
   "cell_type": "code",
   "execution_count": null,
   "id": "ac0ad836",
   "metadata": {},
   "outputs": [],
   "source": []
  },
  {
   "cell_type": "code",
   "execution_count": null,
   "id": "9fc43050",
   "metadata": {},
   "outputs": [],
   "source": []
  },
  {
   "cell_type": "code",
   "execution_count": null,
   "id": "55deeda1",
   "metadata": {},
   "outputs": [],
   "source": []
  },
  {
   "cell_type": "code",
   "execution_count": null,
   "id": "5a528d7c",
   "metadata": {},
   "outputs": [],
   "source": []
  }
 ],
 "metadata": {
  "kernelspec": {
   "display_name": "Python 3",
   "language": "python",
   "name": "python3"
  },
  "language_info": {
   "codemirror_mode": {
    "name": "ipython",
    "version": 3
   },
   "file_extension": ".py",
   "mimetype": "text/x-python",
   "name": "python",
   "nbconvert_exporter": "python",
   "pygments_lexer": "ipython3",
   "version": "3.8.3"
  }
 },
 "nbformat": 4,
 "nbformat_minor": 5
}
