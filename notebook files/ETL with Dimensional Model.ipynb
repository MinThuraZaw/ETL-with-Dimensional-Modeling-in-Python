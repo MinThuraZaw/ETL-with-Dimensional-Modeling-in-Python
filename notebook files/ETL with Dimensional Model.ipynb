{
 "cells": [
  {
   "cell_type": "code",
   "execution_count": 1,
   "id": "33dd080d",
   "metadata": {},
   "outputs": [],
   "source": [
    "import warnings\n",
    "warnings.filterwarnings('ignore')"
   ]
  },
  {
   "cell_type": "code",
   "execution_count": 2,
   "id": "ea13503f",
   "metadata": {},
   "outputs": [],
   "source": [
    "import pandas as pd\n",
    "import numpy as np\n",
    "\n",
    "#my helper functions from ipynb file\n",
    "from ipynb.fs.full.PostgreHelper import * "
   ]
  },
  {
   "cell_type": "markdown",
   "id": "350ae802",
   "metadata": {},
   "source": [
    "# Extract"
   ]
  },
  {
   "cell_type": "code",
   "execution_count": null,
   "id": "393909b5",
   "metadata": {},
   "outputs": [],
   "source": []
  },
  {
   "cell_type": "code",
   "execution_count": null,
   "id": "aac5f504",
   "metadata": {},
   "outputs": [],
   "source": []
  },
  {
   "cell_type": "code",
   "execution_count": null,
   "id": "49efbf8d",
   "metadata": {},
   "outputs": [],
   "source": []
  },
  {
   "cell_type": "code",
   "execution_count": null,
   "id": "a253343d",
   "metadata": {},
   "outputs": [],
   "source": []
  },
  {
   "cell_type": "markdown",
   "id": "bd3e2638",
   "metadata": {},
   "source": [
    "# Transform (Dimensional Model)"
   ]
  },
  {
   "cell_type": "code",
   "execution_count": null,
   "id": "bcb3a3f2",
   "metadata": {},
   "outputs": [],
   "source": []
  },
  {
   "cell_type": "code",
   "execution_count": null,
   "id": "d9144017",
   "metadata": {},
   "outputs": [],
   "source": []
  },
  {
   "cell_type": "code",
   "execution_count": null,
   "id": "5d8e4984",
   "metadata": {},
   "outputs": [],
   "source": []
  },
  {
   "cell_type": "code",
   "execution_count": null,
   "id": "7687e47b",
   "metadata": {},
   "outputs": [],
   "source": []
  },
  {
   "cell_type": "code",
   "execution_count": null,
   "id": "f212ee75",
   "metadata": {},
   "outputs": [],
   "source": []
  },
  {
   "cell_type": "markdown",
   "id": "4a20040b",
   "metadata": {},
   "source": [
    "# Load"
   ]
  },
  {
   "cell_type": "code",
   "execution_count": null,
   "id": "93047f8a",
   "metadata": {},
   "outputs": [],
   "source": [
    "#connect to my Postgre database that hosted on ElephantSql with free instance\n",
    "connection, cursor = connect(host = 'arjuna.db.elephantsql.com', \n",
    "                             database = '*******', \n",
    "                             user = '*******', \n",
    "                             password = '*******', \n",
    "                             port = '5432')"
   ]
  },
  {
   "cell_type": "code",
   "execution_count": null,
   "id": "ee1453e7",
   "metadata": {},
   "outputs": [],
   "source": [
    "#create new table for the above youtube data\n",
    "query = 'CREATE TABLE youtube_channel \\\n",
    "        (id SERIAL PRIMARY KEY, title text, url text, liked int, disliked int, views int, comment_count int); '\n",
    "create_table(connection, cursor, query)"
   ]
  },
  {
   "cell_type": "code",
   "execution_count": null,
   "id": "0d3b8556",
   "metadata": {},
   "outputs": [],
   "source": [
    "#inserting the dataframe into youtube_channel table\n",
    "\n",
    "#convert dataframe in tuples to iterate\n",
    "tuples = [tuple(x) for x in df.to_numpy()]\n",
    "\n",
    "#df columns into string\n",
    "cols = ','.join(list(df.columns))\n",
    "\n",
    "#insert query\n",
    "query = \"INSERT INTO youtube_channel(%s) VALUES(%%s,%%s,%%s,%%s,%%s,%%s)\" % (cols)\n",
    "\n",
    "#inserting with executemany function\n",
    "try:\n",
    "    cursor.executemany(query, tuples)\n",
    "    print(\"Data inserted using execute_many() successfully!\")\n",
    "except (Exception, psycopg2.DatabaseError) as err:\n",
    "    print(err)\n",
    "    cursor.close()"
   ]
  },
  {
   "cell_type": "code",
   "execution_count": null,
   "id": "70489e1e",
   "metadata": {},
   "outputs": [],
   "source": [
    "#read PostgreSQL table into pandas dataframe\n",
    "data = pd.read_sql_query(con = connection, sql = 'SELECT * FROM youtube_channel')\n",
    "data.head(10)"
   ]
  },
  {
   "cell_type": "code",
   "execution_count": null,
   "id": "fe7fffca",
   "metadata": {},
   "outputs": [],
   "source": []
  },
  {
   "cell_type": "code",
   "execution_count": null,
   "id": "76afeb7a",
   "metadata": {},
   "outputs": [],
   "source": []
  },
  {
   "cell_type": "code",
   "execution_count": null,
   "id": "f4185f41",
   "metadata": {},
   "outputs": [],
   "source": []
  },
  {
   "cell_type": "code",
   "execution_count": null,
   "id": "ccc4d860",
   "metadata": {},
   "outputs": [],
   "source": []
  },
  {
   "cell_type": "code",
   "execution_count": null,
   "id": "23bccb7a",
   "metadata": {},
   "outputs": [],
   "source": []
  }
 ],
 "metadata": {
  "kernelspec": {
   "display_name": "Python 3",
   "language": "python",
   "name": "python3"
  },
  "language_info": {
   "codemirror_mode": {
    "name": "ipython",
    "version": 3
   },
   "file_extension": ".py",
   "mimetype": "text/x-python",
   "name": "python",
   "nbconvert_exporter": "python",
   "pygments_lexer": "ipython3",
   "version": "3.8.3"
  }
 },
 "nbformat": 4,
 "nbformat_minor": 5
}
