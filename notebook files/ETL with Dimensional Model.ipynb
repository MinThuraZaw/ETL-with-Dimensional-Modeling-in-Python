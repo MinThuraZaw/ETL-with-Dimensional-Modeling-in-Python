{
 "cells": [
  {
   "cell_type": "code",
   "execution_count": null,
   "id": "05998995",
   "metadata": {},
   "outputs": [],
   "source": [
    "import warnings\n",
    "warnings.filterwarnings('ignore')"
   ]
  },
  {
   "cell_type": "code",
   "execution_count": null,
   "id": "33d06841",
   "metadata": {},
   "outputs": [],
   "source": [
    "import pandas as pd\n",
    "\n",
    "#my helper functions from ipynb file\n",
    "from ipynb.fs.full.PostgreHelper import * "
   ]
  },
  {
   "cell_type": "markdown",
   "id": "7e33c3bc",
   "metadata": {},
   "source": [
    "# Extract"
   ]
  },
  {
   "cell_type": "code",
   "execution_count": null,
   "id": "2e93b1c1",
   "metadata": {},
   "outputs": [],
   "source": [
    "#my sample google sheet\n",
    "sheet_id = '1xo1_DZEVBiVz39S5Ln3CSnagbPE78cvBDKtwqtC3hKI'\n",
    "\n",
    "#extract all tables from the sheet\n",
    "contact_url = f\"https://docs.google.com/spreadsheets/d/{sheet_id}/gviz/tq?tqx=out:csv&sheet=Contacts\"\n",
    "df_contact = pd.read_csv(contact_url)\n",
    "\n",
    "business_url = f\"https://docs.google.com/spreadsheets/d/{sheet_id}/gviz/tq?tqx=out:csv&sheet=Business\"\n",
    "df_business = pd.read_csv(business_url)\n",
    "\n",
    "case_url = f\"https://docs.google.com/spreadsheets/d/{sheet_id}/gviz/tq?tqx=out:csv&sheet=Cases\"\n",
    "df_case = pd.read_csv(case_url)\n",
    "\n",
    "bank_url = f\"https://docs.google.com/spreadsheets/d/{sheet_id}/gviz/tq?tqx=out:csv&sheet=Bank_Account\"\n",
    "df_bank = pd.read_csv(bank_url)\n",
    "\n",
    "withdraw_url = f\"https://docs.google.com/spreadsheets/d/{sheet_id}/gviz/tq?tqx=out:csv&sheet=Withdraw_Info\"\n",
    "df_withdraw = pd.read_csv(withdraw_url)"
   ]
  },
  {
   "cell_type": "code",
   "execution_count": null,
   "id": "12b82ed6",
   "metadata": {},
   "outputs": [],
   "source": [
    "df_withdraw"
   ]
  },
  {
   "cell_type": "code",
   "execution_count": null,
   "id": "ce5058fd",
   "metadata": {},
   "outputs": [],
   "source": []
  },
  {
   "cell_type": "code",
   "execution_count": null,
   "id": "1b41542a",
   "metadata": {},
   "outputs": [],
   "source": []
  },
  {
   "cell_type": "code",
   "execution_count": null,
   "id": "40634eb1",
   "metadata": {},
   "outputs": [],
   "source": []
  },
  {
   "cell_type": "markdown",
   "id": "937915f7",
   "metadata": {},
   "source": [
    "# Transform (Dimensional Model)"
   ]
  },
  {
   "cell_type": "code",
   "execution_count": null,
   "id": "a2e8a497",
   "metadata": {},
   "outputs": [],
   "source": []
  },
  {
   "cell_type": "code",
   "execution_count": null,
   "id": "66cd7663",
   "metadata": {},
   "outputs": [],
   "source": []
  },
  {
   "cell_type": "code",
   "execution_count": null,
   "id": "7351f1e6",
   "metadata": {},
   "outputs": [],
   "source": []
  },
  {
   "cell_type": "code",
   "execution_count": null,
   "id": "bf5fbdb3",
   "metadata": {},
   "outputs": [],
   "source": []
  },
  {
   "cell_type": "code",
   "execution_count": null,
   "id": "2829c71a",
   "metadata": {},
   "outputs": [],
   "source": []
  },
  {
   "cell_type": "code",
   "execution_count": null,
   "id": "f0b1297c",
   "metadata": {},
   "outputs": [],
   "source": []
  },
  {
   "cell_type": "code",
   "execution_count": null,
   "id": "6fa3620b",
   "metadata": {},
   "outputs": [],
   "source": []
  },
  {
   "cell_type": "code",
   "execution_count": null,
   "id": "eb37f258",
   "metadata": {},
   "outputs": [],
   "source": []
  },
  {
   "cell_type": "code",
   "execution_count": null,
   "id": "7bd3d93f",
   "metadata": {},
   "outputs": [],
   "source": []
  },
  {
   "cell_type": "markdown",
   "id": "54400c7a",
   "metadata": {},
   "source": [
    "# Load"
   ]
  },
  {
   "cell_type": "code",
   "execution_count": null,
   "id": "ea063ec5",
   "metadata": {},
   "outputs": [],
   "source": [
    "#connect to my Postgre database that hosted on ElephantSql with free instance\n",
    "connection, cursor = connect(host = 'arjuna.db.elephantsql.com', \n",
    "                             database = '*******', \n",
    "                             user = '*******', \n",
    "                             password = '*******', \n",
    "                             port = '5432')"
   ]
  },
  {
   "cell_type": "code",
   "execution_count": null,
   "id": "70a2aec6",
   "metadata": {},
   "outputs": [],
   "source": [
    "#create new table for the above youtube data\n",
    "query = 'CREATE TABLE youtube_channel \\\n",
    "        (id SERIAL PRIMARY KEY, title text, url text, liked int, disliked int, views int, comment_count int); '\n",
    "create_table(connection, cursor, query)"
   ]
  },
  {
   "cell_type": "code",
   "execution_count": null,
   "id": "74132f89",
   "metadata": {},
   "outputs": [],
   "source": [
    "#inserting the dataframe into youtube_channel table\n",
    "\n",
    "#convert dataframe in tuples to iterate\n",
    "tuples = [tuple(x) for x in df.to_numpy()]\n",
    "\n",
    "#df columns into string\n",
    "cols = ','.join(list(df.columns))\n",
    "\n",
    "#insert query\n",
    "query = \"INSERT INTO youtube_channel(%s) VALUES(%%s,%%s,%%s,%%s,%%s,%%s)\" % (cols)\n",
    "\n",
    "#inserting with executemany function\n",
    "try:\n",
    "    cursor.executemany(query, tuples)\n",
    "    print(\"Data inserted using execute_many() successfully!\")\n",
    "except (Exception, psycopg2.DatabaseError) as err:\n",
    "    print(err)\n",
    "    cursor.close()"
   ]
  },
  {
   "cell_type": "code",
   "execution_count": null,
   "id": "fc4a4df6",
   "metadata": {},
   "outputs": [],
   "source": [
    "#read PostgreSQL table into pandas dataframe\n",
    "data = pd.read_sql_query(con = connection, sql = 'SELECT * FROM youtube_channel')\n",
    "data.head(10)"
   ]
  },
  {
   "cell_type": "code",
   "execution_count": null,
   "id": "af9c9566",
   "metadata": {},
   "outputs": [],
   "source": []
  },
  {
   "cell_type": "code",
   "execution_count": null,
   "id": "28615cb4",
   "metadata": {},
   "outputs": [],
   "source": []
  },
  {
   "cell_type": "code",
   "execution_count": null,
   "id": "14a42b3c",
   "metadata": {},
   "outputs": [],
   "source": []
  },
  {
   "cell_type": "code",
   "execution_count": null,
   "id": "303ddabd",
   "metadata": {},
   "outputs": [],
   "source": []
  },
  {
   "cell_type": "code",
   "execution_count": null,
   "id": "4986bf9b",
   "metadata": {},
   "outputs": [],
   "source": []
  }
 ],
 "metadata": {
  "kernelspec": {
   "display_name": "Python 3",
   "language": "python",
   "name": "python3"
  },
  "language_info": {
   "codemirror_mode": {
    "name": "ipython",
    "version": 3
   },
   "file_extension": ".py",
   "mimetype": "text/x-python",
   "name": "python",
   "nbconvert_exporter": "python",
   "pygments_lexer": "ipython3",
   "version": "3.8.3"
  }
 },
 "nbformat": 4,
 "nbformat_minor": 5
}
