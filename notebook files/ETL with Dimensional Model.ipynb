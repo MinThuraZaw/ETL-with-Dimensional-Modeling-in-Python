{
 "cells": [
  {
   "cell_type": "code",
   "execution_count": null,
   "id": "7e2fcb78",
   "metadata": {},
   "outputs": [],
   "source": [
    "import warnings\n",
    "warnings.filterwarnings('ignore')"
   ]
  },
  {
   "cell_type": "code",
   "execution_count": null,
   "id": "2acd6dce",
   "metadata": {},
   "outputs": [],
   "source": [
    "import pandas as pd\n",
    "\n",
    "#my helper functions from ipynb file\n",
    "from ipynb.fs.full.PostgreHelper import * "
   ]
  },
  {
   "cell_type": "markdown",
   "id": "8195643e",
   "metadata": {},
   "source": [
    "# Extract"
   ]
  },
  {
   "cell_type": "code",
   "execution_count": null,
   "id": "373d690e",
   "metadata": {},
   "outputs": [],
   "source": [
    "#my sample google sheet\n",
    "sheet_id = '1xo1_DZEVBiVz39S5Ln3CSnagbPE78cvBDKtwqtC3hKI'\n",
    "sheet_names = ['Contacts','Business','Cases','Bank_Account','Withdraw_Info']\n",
    "\n",
    "#extract all tables from the sheet\n",
    "contact_url = f\"https://docs.google.com/spreadsheets/d/{sheet_id}/gviz/tq?tqx=out:csv&sheet=Contacts\"\n",
    "df_contact = pd.read_csv(contact_url)\n",
    "\n",
    "business_url = f\"https://docs.google.com/spreadsheets/d/{sheet_id}/gviz/tq?tqx=out:csv&sheet=Business\"\n",
    "df_business = pd.read_csv(business_url)\n",
    "\n",
    "case_url = f\"https://docs.google.com/spreadsheets/d/{sheet_id}/gviz/tq?tqx=out:csv&sheet=Cases\"\n",
    "df_case = pd.read_csv(case_url)\n",
    "\n",
    "bank_url = f\"https://docs.google.com/spreadsheets/d/{sheet_id}/gviz/tq?tqx=out:csv&sheet=Bank_Account\"\n",
    "df_bank = pd.read_csv(bank_url)\n",
    "\n",
    "withdraw_url = f\"https://docs.google.com/spreadsheets/d/{sheet_id}/gviz/tq?tqx=out:csv&sheet=Withdraw_Info\"\n",
    "df_withdraw = pd.read_csv(withdraw_url)"
   ]
  },
  {
   "cell_type": "code",
   "execution_count": null,
   "id": "14b4ad6d",
   "metadata": {},
   "outputs": [],
   "source": [
    "df_withdraw"
   ]
  },
  {
   "cell_type": "code",
   "execution_count": null,
   "id": "d78ca79d",
   "metadata": {},
   "outputs": [],
   "source": []
  },
  {
   "cell_type": "code",
   "execution_count": null,
   "id": "be66062f",
   "metadata": {},
   "outputs": [],
   "source": []
  },
  {
   "cell_type": "code",
   "execution_count": null,
   "id": "f306a5f7",
   "metadata": {},
   "outputs": [],
   "source": []
  },
  {
   "cell_type": "markdown",
   "id": "3df7a1c4",
   "metadata": {},
   "source": [
    "# Transform (Dimensional Model)"
   ]
  },
  {
   "cell_type": "code",
   "execution_count": null,
   "id": "080e26bf",
   "metadata": {},
   "outputs": [],
   "source": []
  },
  {
   "cell_type": "code",
   "execution_count": null,
   "id": "40e03a3f",
   "metadata": {},
   "outputs": [],
   "source": []
  },
  {
   "cell_type": "code",
   "execution_count": null,
   "id": "34f9fcb1",
   "metadata": {},
   "outputs": [],
   "source": []
  },
  {
   "cell_type": "code",
   "execution_count": null,
   "id": "796e2671",
   "metadata": {},
   "outputs": [],
   "source": []
  },
  {
   "cell_type": "code",
   "execution_count": null,
   "id": "69736df9",
   "metadata": {},
   "outputs": [],
   "source": []
  },
  {
   "cell_type": "code",
   "execution_count": null,
   "id": "de02fcb2",
   "metadata": {},
   "outputs": [],
   "source": []
  },
  {
   "cell_type": "code",
   "execution_count": null,
   "id": "3d573f56",
   "metadata": {},
   "outputs": [],
   "source": []
  },
  {
   "cell_type": "code",
   "execution_count": null,
   "id": "91a8b7b8",
   "metadata": {},
   "outputs": [],
   "source": []
  },
  {
   "cell_type": "code",
   "execution_count": null,
   "id": "d4eb2f8f",
   "metadata": {},
   "outputs": [],
   "source": []
  },
  {
   "cell_type": "markdown",
   "id": "f11dd484",
   "metadata": {},
   "source": [
    "# Load"
   ]
  },
  {
   "cell_type": "code",
   "execution_count": null,
   "id": "22d23724",
   "metadata": {},
   "outputs": [],
   "source": [
    "#connect to my Postgre database that hosted on ElephantSql with free instance\n",
    "connection, cursor = connect(host = 'arjuna.db.elephantsql.com', \n",
    "                             database = '*******', \n",
    "                             user = '*******', \n",
    "                             password = '*******', \n",
    "                             port = '5432')"
   ]
  },
  {
   "cell_type": "code",
   "execution_count": null,
   "id": "e60f86d3",
   "metadata": {},
   "outputs": [],
   "source": [
    "#create new table for the above youtube data\n",
    "query = 'CREATE TABLE youtube_channel \\\n",
    "        (id SERIAL PRIMARY KEY, title text, url text, liked int, disliked int, views int, comment_count int); '\n",
    "create_table(connection, cursor, query)"
   ]
  },
  {
   "cell_type": "code",
   "execution_count": null,
   "id": "d52887d0",
   "metadata": {},
   "outputs": [],
   "source": [
    "#inserting the dataframe into youtube_channel table\n",
    "\n",
    "#convert dataframe in tuples to iterate\n",
    "tuples = [tuple(x) for x in df.to_numpy()]\n",
    "\n",
    "#df columns into string\n",
    "cols = ','.join(list(df.columns))\n",
    "\n",
    "#insert query\n",
    "query = \"INSERT INTO youtube_channel(%s) VALUES(%%s,%%s,%%s,%%s,%%s,%%s)\" % (cols)\n",
    "\n",
    "#inserting with executemany function\n",
    "try:\n",
    "    cursor.executemany(query, tuples)\n",
    "    print(\"Data inserted using execute_many() successfully!\")\n",
    "except (Exception, psycopg2.DatabaseError) as err:\n",
    "    print(err)\n",
    "    cursor.close()"
   ]
  },
  {
   "cell_type": "code",
   "execution_count": null,
   "id": "e636d879",
   "metadata": {},
   "outputs": [],
   "source": [
    "#read PostgreSQL table into pandas dataframe\n",
    "data = pd.read_sql_query(con = connection, sql = 'SELECT * FROM youtube_channel')\n",
    "data.head(10)"
   ]
  },
  {
   "cell_type": "code",
   "execution_count": null,
   "id": "18592738",
   "metadata": {},
   "outputs": [],
   "source": []
  },
  {
   "cell_type": "code",
   "execution_count": null,
   "id": "7c457c84",
   "metadata": {},
   "outputs": [],
   "source": []
  },
  {
   "cell_type": "code",
   "execution_count": null,
   "id": "34260ea1",
   "metadata": {},
   "outputs": [],
   "source": []
  },
  {
   "cell_type": "code",
   "execution_count": null,
   "id": "96543f39",
   "metadata": {},
   "outputs": [],
   "source": []
  },
  {
   "cell_type": "code",
   "execution_count": null,
   "id": "23cf03b1",
   "metadata": {},
   "outputs": [],
   "source": []
  }
 ],
 "metadata": {
  "kernelspec": {
   "display_name": "Python 3",
   "language": "python",
   "name": "python3"
  },
  "language_info": {
   "codemirror_mode": {
    "name": "ipython",
    "version": 3
   },
   "file_extension": ".py",
   "mimetype": "text/x-python",
   "name": "python",
   "nbconvert_exporter": "python",
   "pygments_lexer": "ipython3",
   "version": "3.8.3"
  }
 },
 "nbformat": 4,
 "nbformat_minor": 5
}
